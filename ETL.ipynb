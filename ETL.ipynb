{
 "cells": [
  {
   "cell_type": "code",
   "execution_count": 26,
   "metadata": {},
   "outputs": [],
   "source": [
    "# Importar librerías\n",
    "import os\n",
    "import pandas as pd\n",
    "import numpy as np\n",
    "import requests\n",
    "import boto3\n",
    "import yaml"
   ]
  },
  {
   "cell_type": "code",
   "execution_count": 34,
   "metadata": {},
   "outputs": [],
   "source": [
    "# Cargar configuración desde el archivo config.yaml\n",
    "with open('./config.yaml', 'r') as f:\n",
    "    config = yaml.safe_load(f)\n",
    "\n",
    "\n",
    "# Obtener el token del archivo de configuración\n",
    "token = config.get('token', None)\n",
    "#token = 'b6776d08cb636cb8cab098f7b6ba07ab94ef24d130a73e9bb911d7605cc41c83'\n",
    "#token = 'eef03bd2dd8aa693023733eb59b5b2b33d2be9f38b8d7b228ace1b0f063ee6d7'\n",
    "\n",
    "def bmx_indown(ind, start, finish, token):\n",
    "    # URL del endpoint para obtener el tipo de cambio\n",
    "    url = 'https://www.banxico.org.mx/SieAPIRest/service/v1/series/'+ind+'/datos/'+start+'/'+finish\n",
    "\n",
    "    # Agregar tu API key a los headers de la solicitud\n",
    "    headers = {'Bmx-Token':token}\n",
    "\n",
    "    # Realizar la solicitud GET\n",
    "    response = requests.get(url, headers=headers)\n",
    "\n",
    "    status = response.status_code\n",
    "\n",
    "    # Verificar si la solicitud fue exitosa\n",
    "    if response.status_code == 200:\n",
    "        # Convertir la respuesta a formato JSON\n",
    "        data = response.json()\n",
    "\n",
    "        # Extraer el tipo de cambio\n",
    "        indicador = data['bmx']['series'][0]['datos']\n",
    "        df = pd.DataFrame(indicador)\n",
    "        df['dato'] = df['dato'].apply(lambda x: float(x))\n",
    "        df['fecha'] = pd.to_datetime(df['fecha'], format='%d/%m/%Y')\n",
    "        df = df.set_index('fecha')\n",
    "\n",
    "        return df\n",
    "    else:\n",
    "        # Si la solicitud falla, imprimir el código de estado\n",
    "        print(\"Error al obtener el indicador. Código de estado:\", response.status_code)\n",
    "        return None\n"
   ]
  },
  {
   "cell_type": "code",
   "execution_count": 35,
   "metadata": {},
   "outputs": [],
   "source": [
    "# Ejemplo de uso\n",
    "tdcd_bmx = bmx_indown('SF63528', '2023-01-01', '2023-12-31', token)\n",
    "tiie_bmx = bmx_indown('SF43783', '2023-01-01', '2023-12-31', token)\n",
    "sp1_bmx = bmx_indown('SP1', '2023-01-01', '2023-12-31', token)\n"
   ]
  },
  {
   "cell_type": "code",
   "execution_count": 21,
   "metadata": {},
   "outputs": [],
   "source": [
    "# Ejemplo de cómo podrías llenar valores faltantes para cada DataFrame\n",
    "for df in [tdcd_bmx, tiie_bmx, sp1_bmx]:\n",
    "    # Eliminar valores faltantes\n",
    "    df.dropna(inplace=True)\n",
    "    df.drop_duplicates(inplace=True)\n",
    "  "
   ]
  },
  {
   "cell_type": "code",
   "execution_count": 22,
   "metadata": {},
   "outputs": [],
   "source": [
    "# Guardar tdcd_bmx a CSV\n",
    "tdcd_bmx.to_csv('./data/tdcd_bmx.csv', index=True)\n",
    "\n",
    "# Guardar tiie_bmx a CSV\n",
    "tiie_bmx.to_csv('./data/tiie_bmx.csv', index=True)\n",
    "\n",
    "# Guardar sp1_bmx a CSV\n",
    "sp1_bmx.to_csv('./data/sp1_bmx.csv', index=True)\n"
   ]
  },
  {
   "cell_type": "code",
   "execution_count": 25,
   "metadata": {},
   "outputs": [],
   "source": [
    "# Upload los archivos a S3\n",
    "s3.upload_file(Filename=\"./data/sp1_bmx.csv\", Bucket=\"itam-analytics-carlos\", Key=\"raw/inflacion/sp1_bmx.csv\")\n",
    "s3.upload_file(Filename=\"./data/tdcd_bmx.csv\", Bucket=\"itam-analytics-carlos\", Key=\"raw/tipo_de_cambio/tdcd_bmx.csv\")\n",
    "s3.upload_file(Filename=\"./data/tiie_bmx.csv\", Bucket=\"itam-analytics-carlos\", Key=\"raw/tasa_de_interes/tiie_bmx.csv\")"
   ]
  }
 ],
 "metadata": {
  "kernelspec": {
   "display_name": "base",
   "language": "python",
   "name": "python3"
  },
  "language_info": {
   "codemirror_mode": {
    "name": "ipython",
    "version": 3
   },
   "file_extension": ".py",
   "mimetype": "text/x-python",
   "name": "python",
   "nbconvert_exporter": "python",
   "pygments_lexer": "ipython3",
   "version": "3.11.8"
  },
  "orig_nbformat": 4
 },
 "nbformat": 4,
 "nbformat_minor": 2
}
